{
 "cells": [
  {
   "cell_type": "markdown",
   "metadata": {},
   "source": [
    "# 🚀 Despliegue con Streamlit - Factores de anemia\n",
    "\n",
    "- Miguel Angel Vélez Suarez\n",
    "- Samuel Pérez Hurtado"
   ]
  },
  {
   "cell_type": "code",
   "execution_count": 1,
   "metadata": {},
   "outputs": [],
   "source": [
    "#Importamos librerías básicas\n",
    "import pandas as pd # manipulacion dataframes\n",
    "import numpy as np  # matrices y vectores\n",
    "import matplotlib.pyplot as plt #gráfica"
   ]
  },
  {
   "cell_type": "code",
   "execution_count": 2,
   "metadata": {},
   "outputs": [],
   "source": [
    "#Cargamos el modelo\n",
    "import pickle\n",
    "filename = 'data/modelo-hiperparametrizado.pkl'\n",
    "model,labelencoder,variables,min_max_scaler = pickle.load(open(filename, 'rb'))"
   ]
  },
  {
   "cell_type": "code",
   "execution_count": 3,
   "metadata": {},
   "outputs": [],
   "source": [
    "# Se instala la librería de streamlit\n",
    "# !pip install streamlit"
   ]
  },
  {
   "cell_type": "code",
   "execution_count": 4,
   "metadata": {},
   "outputs": [
    {
     "name": "stderr",
     "output_type": "stream",
     "text": [
      "2023-11-14 00:58:10.929 \n",
      "  \u001b[33m\u001b[1mWarning:\u001b[0m to view this Streamlit app on a browser, run it with the following\n",
      "  command:\n",
      "\n",
      "    streamlit run /home/codespace/.local/lib/python3.10/site-packages/ipykernel_launcher.py [ARGUMENTS]\n"
     ]
    }
   ],
   "source": [
    "#Se crea interfaz gráfica con streamlit para captura de los datos\n",
    "import streamlit as st\n",
    "\n",
    "st.title('Predicción de factores de anemia')\n",
    "\n",
    "age_5yr = st.selectbox('Rango de edad', ['25-29', '30-34', '35-39', '20-24', '15-19', '40-44', '45-49'])\n",
    "residence = st.selectbox('Tipo de residencia', ['Urban', 'Rural'])\n",
    "wealth = st.selectbox('Índice de riqueza', ['Richest', 'Richer', 'Middle', 'Poorer', 'Poorest'])\n",
    "hemoglobin = st.slider('Hemoglobina ajustada a la altura y si es fumador', min_value=18, max_value=160, value=50, step=1)\n",
    "mosquito_net = st.selectbox('Uso de mosquitero', ['Yes', 'No'])\n",
    "smokes = st.selectbox('Fumador', ['No', 'Yes'])\n",
    "breastfeeding = st.slider('Minutos a los que se amamantó el hijo por primera vez', min_value=0, max_value=250, value=10, step=1)\n",
    "fever = st.selectbox('¿Ha tenido fiebre en las dos últimas semanas?', ['No', 'Yes', \"Don't know\"])\n",
    "supplements = st.selectbox('Está tomando suplementos de hierro?', ['No', 'Yes', \"Don't know\"])\n",
    "\n",
    "datos = [[age_5yr, residence, wealth, hemoglobin, mosquito_net, smokes, breastfeeding, fever, supplements]]\n",
    "data = pd.DataFrame(datos, columns=['Age in 5-year groups', 'Type of place of residence',\n",
    "                                    'Wealth index combined',\n",
    "                                    'Hemoglobin level adjusted for altitude and smoking (g/dl - 1 decimal)',\n",
    "                                    'Have mosquito bed net for sleeping (from household questionnaire)',\n",
    "                                    'Smokes cigarettes', 'When child put to breast',\n",
    "                                    'Had fever in last two weeks', 'Taking iron pills, sprinkles or syrup']) #Dataframe con los mismos nombres de variables"
   ]
  },
  {
   "cell_type": "code",
   "execution_count": 5,
   "metadata": {},
   "outputs": [
    {
     "data": {
      "text/html": [
       "<div>\n",
       "<style scoped>\n",
       "    .dataframe tbody tr th:only-of-type {\n",
       "        vertical-align: middle;\n",
       "    }\n",
       "\n",
       "    .dataframe tbody tr th {\n",
       "        vertical-align: top;\n",
       "    }\n",
       "\n",
       "    .dataframe thead th {\n",
       "        text-align: right;\n",
       "    }\n",
       "</style>\n",
       "<table border=\"1\" class=\"dataframe\">\n",
       "  <thead>\n",
       "    <tr style=\"text-align: right;\">\n",
       "      <th></th>\n",
       "      <th>Hemoglobin level adjusted for altitude and smoking (g/dl - 1 decimal)</th>\n",
       "      <th>When child put to breast</th>\n",
       "      <th>Age in 5-year groups_25-29</th>\n",
       "      <th>Type of place of residence_Urban</th>\n",
       "      <th>Wealth index combined_Richest</th>\n",
       "      <th>Have mosquito bed net for sleeping (from household questionnaire)_Yes</th>\n",
       "      <th>Smokes cigarettes_No</th>\n",
       "      <th>Had fever in last two weeks_No</th>\n",
       "      <th>Taking iron pills, sprinkles or syrup_No</th>\n",
       "    </tr>\n",
       "  </thead>\n",
       "  <tbody>\n",
       "    <tr>\n",
       "      <th>0</th>\n",
       "      <td>0.214286</td>\n",
       "      <td>0.044843</td>\n",
       "      <td>1</td>\n",
       "      <td>1</td>\n",
       "      <td>1</td>\n",
       "      <td>1</td>\n",
       "      <td>1</td>\n",
       "      <td>1</td>\n",
       "      <td>1</td>\n",
       "    </tr>\n",
       "  </tbody>\n",
       "</table>\n",
       "</div>"
      ],
      "text/plain": [
       "   Hemoglobin level adjusted for altitude and smoking (g/dl - 1 decimal)  \\\n",
       "0                                           0.214286                       \n",
       "\n",
       "   When child put to breast  Age in 5-year groups_25-29  \\\n",
       "0                  0.044843                           1   \n",
       "\n",
       "   Type of place of residence_Urban  Wealth index combined_Richest  \\\n",
       "0                                 1                              1   \n",
       "\n",
       "   Have mosquito bed net for sleeping (from household questionnaire)_Yes  \\\n",
       "0                                                  1                       \n",
       "\n",
       "   Smokes cigarettes_No  Had fever in last two weeks_No  \\\n",
       "0                     1                               1   \n",
       "\n",
       "   Taking iron pills, sprinkles or syrup_No  \n",
       "0                                         1  "
      ]
     },
     "execution_count": 5,
     "metadata": {},
     "output_type": "execute_result"
    }
   ],
   "source": [
    "#Se realiza la preparación\n",
    "data_preparada=data.copy()\n",
    "data_preparada = pd.get_dummies(data_preparada, drop_first=False, dtype='int64')\n",
    "data_preparada[['Hemoglobin level adjusted for altitude and smoking (g/dl - 1 decimal)', 'When child put to breast']]= min_max_scaler.transform(data_preparada[['Hemoglobin level adjusted for altitude and smoking (g/dl - 1 decimal)', 'When child put to breast']])\n",
    "data_preparada.head()"
   ]
  },
  {
   "cell_type": "code",
   "execution_count": 6,
   "metadata": {},
   "outputs": [
    {
     "data": {
      "text/html": [
       "<div>\n",
       "<style scoped>\n",
       "    .dataframe tbody tr th:only-of-type {\n",
       "        vertical-align: middle;\n",
       "    }\n",
       "\n",
       "    .dataframe tbody tr th {\n",
       "        vertical-align: top;\n",
       "    }\n",
       "\n",
       "    .dataframe thead th {\n",
       "        text-align: right;\n",
       "    }\n",
       "</style>\n",
       "<table border=\"1\" class=\"dataframe\">\n",
       "  <thead>\n",
       "    <tr style=\"text-align: right;\">\n",
       "      <th></th>\n",
       "      <th>Hemoglobin level adjusted for altitude and smoking (g/dl - 1 decimal)</th>\n",
       "      <th>When child put to breast</th>\n",
       "      <th>Age in 5-year groups_20-24</th>\n",
       "      <th>Age in 5-year groups_25-29</th>\n",
       "      <th>Age in 5-year groups_30-34</th>\n",
       "      <th>Age in 5-year groups_35-39</th>\n",
       "      <th>Age in 5-year groups_40-44</th>\n",
       "      <th>Age in 5-year groups_45-49</th>\n",
       "      <th>Type of place of residence_Urban</th>\n",
       "      <th>Wealth index combined_Poorer</th>\n",
       "      <th>Wealth index combined_Poorest</th>\n",
       "      <th>Wealth index combined_Richer</th>\n",
       "      <th>Wealth index combined_Richest</th>\n",
       "      <th>Have mosquito bed net for sleeping (from household questionnaire)_Yes</th>\n",
       "      <th>Smokes cigarettes_Yes</th>\n",
       "      <th>Had fever in last two weeks_No</th>\n",
       "      <th>Had fever in last two weeks_Yes</th>\n",
       "      <th>Taking iron pills, sprinkles or syrup_No</th>\n",
       "      <th>Taking iron pills, sprinkles or syrup_Yes</th>\n",
       "    </tr>\n",
       "  </thead>\n",
       "  <tbody>\n",
       "    <tr>\n",
       "      <th>0</th>\n",
       "      <td>0.214286</td>\n",
       "      <td>0.044843</td>\n",
       "      <td>0</td>\n",
       "      <td>1</td>\n",
       "      <td>0</td>\n",
       "      <td>0</td>\n",
       "      <td>0</td>\n",
       "      <td>0</td>\n",
       "      <td>1</td>\n",
       "      <td>0</td>\n",
       "      <td>0</td>\n",
       "      <td>0</td>\n",
       "      <td>1</td>\n",
       "      <td>1</td>\n",
       "      <td>0</td>\n",
       "      <td>1</td>\n",
       "      <td>0</td>\n",
       "      <td>1</td>\n",
       "      <td>0</td>\n",
       "    </tr>\n",
       "  </tbody>\n",
       "</table>\n",
       "</div>"
      ],
      "text/plain": [
       "   Hemoglobin level adjusted for altitude and smoking (g/dl - 1 decimal)  \\\n",
       "0                                           0.214286                       \n",
       "\n",
       "   When child put to breast  Age in 5-year groups_20-24  \\\n",
       "0                  0.044843                           0   \n",
       "\n",
       "   Age in 5-year groups_25-29  Age in 5-year groups_30-34  \\\n",
       "0                           1                           0   \n",
       "\n",
       "   Age in 5-year groups_35-39  Age in 5-year groups_40-44  \\\n",
       "0                           0                           0   \n",
       "\n",
       "   Age in 5-year groups_45-49  Type of place of residence_Urban  \\\n",
       "0                           0                                 1   \n",
       "\n",
       "   Wealth index combined_Poorer  Wealth index combined_Poorest  \\\n",
       "0                             0                              0   \n",
       "\n",
       "   Wealth index combined_Richer  Wealth index combined_Richest  \\\n",
       "0                             0                              1   \n",
       "\n",
       "   Have mosquito bed net for sleeping (from household questionnaire)_Yes  \\\n",
       "0                                                  1                       \n",
       "\n",
       "   Smokes cigarettes_Yes  Had fever in last two weeks_No  \\\n",
       "0                      0                               1   \n",
       "\n",
       "   Had fever in last two weeks_Yes  Taking iron pills, sprinkles or syrup_No  \\\n",
       "0                                0                                         1   \n",
       "\n",
       "   Taking iron pills, sprinkles or syrup_Yes  \n",
       "0                                          0  "
      ]
     },
     "execution_count": 6,
     "metadata": {},
     "output_type": "execute_result"
    }
   ],
   "source": [
    "#Se adicionan las columnas faltantes\n",
    "data_preparada=data_preparada.reindex(columns=variables,fill_value=0)\n",
    "data_preparada.head()"
   ]
  },
  {
   "cell_type": "code",
   "execution_count": 7,
   "metadata": {},
   "outputs": [
    {
     "name": "stdout",
     "output_type": "stream",
     "text": [
      "['Moderate']\n"
     ]
    }
   ],
   "source": [
    "#Hacemos la predicción\n",
    "Y_fut = model.predict(data_preparada)\n",
    "print(labelencoder.inverse_transform(Y_fut))"
   ]
  }
 ],
 "metadata": {
  "kernelspec": {
   "display_name": "Python 3",
   "language": "python",
   "name": "python3"
  },
  "language_info": {
   "codemirror_mode": {
    "name": "ipython",
    "version": 3
   },
   "file_extension": ".py",
   "mimetype": "text/x-python",
   "name": "python",
   "nbconvert_exporter": "python",
   "pygments_lexer": "ipython3",
   "version": "3.10.8"
  }
 },
 "nbformat": 4,
 "nbformat_minor": 2
}
