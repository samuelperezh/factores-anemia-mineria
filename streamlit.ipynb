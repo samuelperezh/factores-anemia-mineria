{
 "cells": [
  {
   "cell_type": "markdown",
   "metadata": {
    "id": "Svqh1BFrTN8w"
   },
   "source": [
    "# **Despliegue de factores de anemia con interfaz gráfica de Streamlit y enlace público con LocalTunnel**\n",
    "\n",
    "Se debe cargar:\n",
    "* app.py: aplicación con el despliegue\n",
    "* modelo.pkl: modelos de machine learning"
   ]
  },
  {
   "cell_type": "markdown",
   "metadata": {
    "id": "70ADf34fTqXu"
   },
   "source": [
    "# **Streamlit**\n",
    "Es una plataforma de código abierto que se utiliza para crear aplicaciones web interactivas y de visualización de datos.\n",
    "\n",
    "https://streamlit.io/\n",
    "\n",
    "**Streamlit para despliegue de modelos**\n",
    "\n",
    "Nos permite crear aplicaciones web para despliegue de modelos predictivos.\n",
    "\n",
    "Se debe tener previamente una aplicación app.y\n",
    "\n",
    "* Para ejecutar en un equipo local: !streamlit run app.py\n",
    "* Desde Google Colab necesitamos un tunel que nos permita simular un servidor web local y asi acceder la aplicación por un enlace público. Se puede hacer con localtunnel."
   ]
  },
  {
   "cell_type": "code",
   "execution_count": null,
   "metadata": {
    "colab": {
     "base_uri": "https://localhost:8080/"
    },
    "id": "ZTmwSOInS48Z",
    "outputId": "127d2058-8717-441b-c42d-37e9e3ca963e"
   },
   "outputs": [],
   "source": [
    "#Instalación\n",
    "!pip install streamlit"
   ]
  },
  {
   "cell_type": "code",
   "execution_count": null,
   "metadata": {
    "colab": {
     "base_uri": "https://localhost:8080/"
    },
    "id": "AfpxscRaT2sW",
    "outputId": "14e61569-8dfb-477d-9b91-e370940bfbdd"
   },
   "outputs": [],
   "source": [
    "#Correr la app en background, recuerda cargar el archivo app.py\n",
    "!nohup streamlit run app.py &"
   ]
  },
  {
   "cell_type": "markdown",
   "metadata": {
    "id": "6FY2M_DgUMLq"
   },
   "source": [
    "# Localtunnel"
   ]
  },
  {
   "cell_type": "code",
   "execution_count": null,
   "metadata": {
    "colab": {
     "base_uri": "https://localhost:8080/"
    },
    "id": "OL5_ZsNIUPMo",
    "outputId": "c8e65a86-ae9e-4f6b-9b0a-2f5d99526d7f"
   },
   "outputs": [],
   "source": [
    "!npm install localtunnel"
   ]
  },
  {
   "cell_type": "code",
   "execution_count": null,
   "metadata": {
    "colab": {
     "base_uri": "https://localhost:8080/"
    },
    "id": "gQ-ZTHCgUTR_",
    "outputId": "ddfa7870-8b10-4811-d783-c88050bfe257"
   },
   "outputs": [],
   "source": [
    "import urllib.request\n",
    "print(\"Password/Enpoint IP for localtunnel is:\",urllib.request.urlopen('https://ipv4.icanhazip.com').read().decode('utf8').strip(\"\\n\"))"
   ]
  },
  {
   "cell_type": "code",
   "execution_count": null,
   "metadata": {
    "colab": {
     "base_uri": "https://localhost:8080/"
    },
    "id": "f-JtkA-rUYw2",
    "outputId": "4266efe4-a638-49ec-cc59-9209d0e1b2a0"
   },
   "outputs": [],
   "source": [
    "#Se crea un túnel hacia un servidor local que se está ejecutando en el puerto 8501.\n",
    "!npx localtunnel --port 8501"
   ]
  }
 ],
 "metadata": {
  "colab": {
   "provenance": []
  },
  "kernelspec": {
   "display_name": "Python 3 (ipykernel)",
   "language": "python",
   "name": "python3"
  },
  "language_info": {
   "codemirror_mode": {
    "name": "ipython",
    "version": 3
   },
   "file_extension": ".py",
   "mimetype": "text/x-python",
   "name": "python",
   "nbconvert_exporter": "python",
   "pygments_lexer": "ipython3",
   "version": "3.10.8"
  }
 },
 "nbformat": 4,
 "nbformat_minor": 4
}
